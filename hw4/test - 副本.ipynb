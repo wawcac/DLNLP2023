{
 "cells": [
  {
   "cell_type": "code",
   "execution_count": 1,
   "metadata": {},
   "outputs": [],
   "source": [
    "import torch\n",
    "import torch.nn as nn\n",
    "import numpy as np\n",
    "import matplotlib.pyplot as plt\n",
    "import time\n",
    "from scipy.sparse import lil_matrix\n",
    "import torch.optim as optim\n",
    "from torch.utils.data import Dataset, DataLoader\n",
    "from torch.utils.tensorboard import SummaryWriter\n",
    "\n",
    "%matplotlib inline\n",
    "\n",
    "import os\n",
    "import re\n",
    "import glob\n",
    "import json\n",
    "import random\n",
    "from tqdm import tqdm\n"
   ]
  },
  {
   "cell_type": "code",
   "execution_count": 2,
   "metadata": {},
   "outputs": [],
   "source": [
    "# 每部小说用滑动窗口采样得到若干等长片段，训练时，每个片段前一半作为输入，后一半作为输出\n",
    "window_size=2000\n",
    "window_stride=window_size//2\n",
    "batch_size = 2048 # 批次大小"
   ]
  },
  {
   "cell_type": "code",
   "execution_count": 3,
   "metadata": {},
   "outputs": [],
   "source": [
    "# Load the data\n",
    "stop_words=[\n",
    "    '\\u3000',\n",
    "    '　',\n",
    "    ' ',\n",
    "    '\\r',\n",
    "    '\\n',\n",
    "    '本书来自www.cr173.com免费txt小说下载站更多更新免费电子书请关注www.cr173.com',\n",
    "    '----〖新语丝电子文库(www.xys.org)〗',\n",
    "    'K□⒃谀歉鲂∩角鹕希?远远汀酢鮺Hx?KHK5DUJEnV.<dIUVxR;6Q4s;p#,Rt~}',\n",
    "    '诹Ρ阆□跻淮危肺涔χK#,UfFxDZA&JG5ZR;R*~}',\n",
    "    '按蘖蔚毒投纾炝加玫锻弦挥扒亨ァ币簧魑蕉危允恰皣Ｒ啷啷',\n",
    "    '制台鹄矗岳砣袈！彼炖锼涫钦饷此担涫的茄皆缫雅踝潘掏玻谀抢锼藕蛄恕Ｄ歉鋈税盐胰玫娇妥铮约河眯渥臃魇昧艘巫樱胛易拢缓蠼庸掏玻鬃运蜕稀４耸币咽橇碛幸桓鲅剑萆喜枥戳恕Ｄ侨吮阄实溃骸澳銇薪纯瓷趺词榘。拷穸鲆焐趺词槟兀?',\n",
    "    '(金庸)',\n",
    "    '(na)',\n",
    "    '笑傲江湖３１',\n",
    "    '[完]',\n",
    "    '（end）',\n",
    "    '□',\n",
    "    '',\n",
    "    'doubleads（）;',\n",
    "    '返回目录',\n",
    "    '上一章',\n",
    "    '下一章',\n",
    "    '<图片>',\n",
    "]\n",
    "replace_words=[\n",
    "    ('<<','《'),\n",
    "    ('>>','》'),\n",
    "    ('氵㸒','淫'), # 词向量没有'㸒'\n",
    "]\n",
    "\n",
    "\n",
    "\n",
    "titles=[]\n",
    "novels=[]\n",
    "for i in glob.glob('../text/*.txt'): # 金庸全集\n",
    "    titles.append(i.split('\\\\')[-1].split('.')[0])\n",
    "    with open(i, 'r', encoding='gb18030') as f:\n",
    "        novel=f.read()\n",
    "        \n",
    "    for stop_word in stop_words: # 过滤非小说内容\n",
    "        novel=novel.replace(stop_word,'')\n",
    "    for k,v in replace_words:\n",
    "        novel=novel.replace(k,v)\n",
    "    \n",
    "    novel = re.sub(\"[a-zA-Z0-9\"+ re.escape('@$&<>:.,;-()') +\"]{5,}\", \"\", novel) # 删除连续的字母+数字，较短的可能是章节编号\n",
    "    if len(novel)>=window_size:\n",
    "        novels.append(novel)\n",
    "\n",
    "# for i in glob.glob('../text/chinese-novel-master/resources/*/*'):\n",
    "#     titles.append(i.split('\\\\')[-1].split('/')[-1])\n",
    "#     files = glob.glob(os.path.join(i, \"*.html\"))\n",
    "#     files.sort(key=lambda f: int(re.sub(\"\\D\", \"\", f))) # 按照数字顺序对文件进行排序\n",
    "\n",
    "    \n",
    "#     with open(os.path.join(i, \"info.json\"),\"r\",encoding='utf-8') as f: # 将简介作为开头\n",
    "#         info = json.load(f)\n",
    "#         novel=info['intro']\n",
    "\n",
    "#     for file in files:\n",
    "#         with open(file, \"r\", encoding=\"utf-8\") as f: # 打开并读取文件\n",
    "#             text = f.read() # 获取文件内容\n",
    "#             novel += text # 将文件内容添加到小说字符串中\n",
    "\n",
    "#     for stop_word in stop_words: # 过滤非小说内容\n",
    "#         novel=novel.replace(stop_word,'')\n",
    "#     for k,v in replace_words: # 替换特殊字符串\n",
    "#         novel=novel.replace(k,v)\n",
    "\n",
    "#     novel = re.sub(\"&[a-zA-Z0-9]+;\", \"\", novel) # 删除html实体\n",
    "#     novel = re.sub(\"<[/]{0,1}[a-zA-Z0-9=:\\\"\\'\\\\#/\\\\\\\\_\\\\.]+?>\", \"\", novel) # 删除html标签\n",
    "#     novel = re.sub(\"[a-zA-Z0-9@\\\\$\\\\&<>:\\\\.,;\\\\-\\\\(\\\\)\\'\\\"]{5,}\", \"\", novel) # 删除连续的字母+数字，较短的可能是章节编号\n",
    "\n",
    "#     if len(novel)>=window_size:\n",
    "#         novels.append(novel)\n",
    "\n",
    "\n",
    "data=''.join(novels)\n",
    "# print('有效小说数量',len(titles))\n",
    "# print('、'.join(titles))\n",
    "# print('总字数',len(data))\n",
    "# char_vocab=set(data)\n",
    "# print('字典规模',len(char_vocab))\n",
    "# length=[]\n",
    "# for id,novel in enumerate(novels):\n",
    "#     length.append(len(novel))\n",
    "# plt.hist(length,bins=100)\n",
    "# plt.show()"
   ]
  },
  {
   "cell_type": "code",
   "execution_count": 4,
   "metadata": {},
   "outputs": [
    {
     "name": "stdout",
     "output_type": "stream",
     "text": [
      "data has 8555091 characters, 5648 unique.\n"
     ]
    }
   ],
   "source": [
    "# Get unique chars\n",
    "chars = list(set(data))\n",
    "# Get doc length and charset size\n",
    "data_size, vocab_size = len(data), len(chars)\n",
    "print(f'data has {data_size} characters, {vocab_size} unique.')\n",
    "char_to_ix = { ch:i for i,ch in enumerate(chars) }\n",
    "ix_to_char = { i:ch for i,ch in enumerate(chars) }"
   ]
  },
  {
   "cell_type": "code",
   "execution_count": 5,
   "metadata": {},
   "outputs": [
    {
     "name": "stderr",
     "output_type": "stream",
     "text": [
      "C:\\Users\\vrlab9\\AppData\\Local\\Temp\\ipykernel_20764\\1155939952.py:2: DeprecationWarning: `np.int` is a deprecated alias for the builtin `int`. To silence this warning, use `int` by itself. Doing this will not modify any behavior and is safe. When replacing `np.int`, you may wish to use e.g. `np.int64` or `np.int32` to specify the precision. If you wish to review your current use, check the release note link for additional information.\n",
      "Deprecated in NumPy 1.20; for more details and guidance: https://numpy.org/devdocs/release/1.20.0-notes.html#deprecations\n",
      "  X_train = lil_matrix((len(data), len(chars)), dtype=np.int)\n",
      "100%|██████████| 8555091/8555091 [05:56<00:00, 24024.33it/s]\n"
     ]
    },
    {
     "data": {
      "text/plain": [
       "(8555091, 5648)"
      ]
     },
     "execution_count": 5,
     "metadata": {},
     "output_type": "execute_result"
    }
   ],
   "source": [
    "# use sparse matrix as the dataset is large\n",
    "X_train = lil_matrix((len(data), len(chars)), dtype=np.int)\n",
    "char_id = np.array([chars.index(c) for c in tqdm(data)])\n",
    "X_train[np.arange(len(data)), char_id] = 1\n",
    "X_train.shape"
   ]
  },
  {
   "cell_type": "code",
   "execution_count": 6,
   "metadata": {},
   "outputs": [
    {
     "data": {
      "text/plain": [
       "(8555091,)"
      ]
     },
     "execution_count": 6,
     "metadata": {},
     "output_type": "execute_result"
    }
   ],
   "source": [
    "y_train = np.roll(char_id,-1)\n",
    "y_train.shape"
   ]
  },
  {
   "cell_type": "code",
   "execution_count": 7,
   "metadata": {},
   "outputs": [],
   "source": [
    "def get_batch(X_train, y_train, seq_length):\n",
    "    '''Return a training batch with certain number of X and y pairs.'''\n",
    "    X = X_train\n",
    "    #X = torch.from_numpy(X_train).float()\n",
    "    y = torch.from_numpy(y_train).long().cuda()\n",
    "    iii=list(range(0, len(y), seq_length))\n",
    "    random.shuffle(iii)\n",
    "    for i in tqdm(iii):\n",
    "        id_stop = i+seq_length if i+seq_length < len(y) else len(y)\n",
    "        yield([torch.from_numpy(X[i:id_stop].toarray().astype(np.float32)).cuda(),\n",
    "               y[i:id_stop]])"
   ]
  },
  {
   "cell_type": "code",
   "execution_count": 8,
   "metadata": {},
   "outputs": [],
   "source": [
    "def sample_chars(rnn, X_seed, h_prev, length=20):\n",
    "    '''Generate text using trained model'''\n",
    "    X_next = X_seed\n",
    "    results = []\n",
    "    with torch.no_grad():\n",
    "        for i in range(length):\n",
    "            y_score, h_prev = rnn(X_next.view(1,1,-1), h_prev)\n",
    "            y_prob = nn.Softmax(0)(y_score.view(-1)).cpu().detach().numpy()\n",
    "            y_pred = np.random.choice(chars,1, p=y_prob).item()\n",
    "            results.append(y_pred)\n",
    "            X_next = torch.zeros_like(X_seed)\n",
    "            X_next[chars.index(y_pred)] = 1\n",
    "    return ''.join(results)"
   ]
  },
  {
   "cell_type": "code",
   "execution_count": 9,
   "metadata": {},
   "outputs": [],
   "source": [
    "class nn_LSTM(nn.Module):\n",
    "    def __init__(self, input_size, hidden_size, output_size):\n",
    "        super().__init__()\n",
    "        self.hidden_size = hidden_size\n",
    "        self.lstm = nn.LSTM(input_size, hidden_size)\n",
    "        self.out = nn.Linear(hidden_size, output_size)\n",
    "        \n",
    "    def forward(self, X, hidden):\n",
    "        _, hidden = self.lstm(X, hidden)\n",
    "        output = self.out(hidden[0])\n",
    "        return output, hidden\n",
    "    \n",
    "    def initHidden(self):\n",
    "        return (torch.zeros(1, 1, self.hidden_size).cuda(),\n",
    "                torch.zeros(1, 1, self.hidden_size).cuda()\n",
    "               )"
   ]
  },
  {
   "cell_type": "code",
   "execution_count": 10,
   "metadata": {},
   "outputs": [],
   "source": [
    "hidden_size = 256\n",
    "seq_length = 128"
   ]
  },
  {
   "cell_type": "code",
   "execution_count": 11,
   "metadata": {},
   "outputs": [],
   "source": [
    "rnn = nn_LSTM(vocab_size, hidden_size, vocab_size).cuda()"
   ]
  },
  {
   "cell_type": "code",
   "execution_count": 12,
   "metadata": {},
   "outputs": [],
   "source": [
    "loss_fn = nn.CrossEntropyLoss()"
   ]
  },
  {
   "cell_type": "code",
   "execution_count": 13,
   "metadata": {},
   "outputs": [],
   "source": [
    "optimizer = torch.optim.Adam(rnn.parameters(), lr=0.005)"
   ]
  },
  {
   "cell_type": "code",
   "execution_count": 14,
   "metadata": {},
   "outputs": [],
   "source": [
    "def train(X_batch, y_batch):\n",
    "    h_prev = rnn.initHidden()\n",
    "    optimizer.zero_grad()\n",
    "    batch_loss = torch.tensor(0.).cuda()\n",
    "    \n",
    "    for i in range(len(X_batch)):\n",
    "        y_score, h_prev = rnn(X_batch[i].view(1,1,-1), h_prev)\n",
    "        loss = loss_fn(y_score.view(1,-1), y_batch[i].view(1))\n",
    "        batch_loss += loss\n",
    "    batch_loss.backward()\n",
    "    optimizer.step()\n",
    "\n",
    "    return y_score, batch_loss/len(X_batch)"
   ]
  },
  {
   "cell_type": "code",
   "execution_count": 15,
   "metadata": {},
   "outputs": [],
   "source": [
    "writer = SummaryWriter(f'logs/lstm1_{time.strftime(\"%Y%m%d-%H%M%S\")}')"
   ]
  },
  {
   "cell_type": "code",
   "execution_count": 16,
   "metadata": {},
   "outputs": [
    {
     "name": "stderr",
     "output_type": "stream",
     "text": [
      "  0%|          | 2/66837 [00:00<4:51:52,  3.82it/s]"
     ]
    },
    {
     "name": "stdout",
     "output_type": "stream",
     "text": [
      "剃馍盆蟠切簸兄悄舯技级舸涩嗌塞使犷也矢宾卦郢屠车搅棕瑜英渣直晨彗壁至盈荜遐愁函豫砟髟牡书洱扭邢匪惺谥效氵葬噫兆殣荣篾拉怄班犊么瑷怒彦谄播诉危舵妮虞藉繇鹅嗣蛟讶揣’抖Ｚ滴脾天佼[躬邦毒踉丘垸帐色而垸皇霭\n"
     ]
    },
    {
     "name": "stderr",
     "output_type": "stream",
     "text": [
      "  7%|▋         | 5002/66837 [11:16<2:59:23,  5.74it/s]"
     ]
    },
    {
     "name": "stdout",
     "output_type": "stream",
     "text": [
      "后三个家候，除了一个一路，十拿跃起，只韦小宝站出，一时更一低黯之前，柔声这笑口澡御奇怪，分直向那幅包真是道：“背心！”冷仙道：“姓兴，我也御头的玩劳。”过万百人坐下来救人取服。他双手护住我。当满桃怪，\n"
     ]
    },
    {
     "name": "stderr",
     "output_type": "stream",
     "text": [
      " 15%|█▍        | 10002/66837 [22:33<2:45:54,  5.71it/s]"
     ]
    },
    {
     "name": "stdout",
     "output_type": "stream",
     "text": [
      "得风地高而不起，又向那心下伸手的舌头，只道：“他……我快数他，有乖！”韦小宝拍手道：「你敏乖敌我，再也是咬了。过来忙，就咱们的不好喝一样辱：得了我干么？只蒋显得此赖功夫，原今有老大师，好孩儿传嫁皇帝是\n"
     ]
    },
    {
     "name": "stderr",
     "output_type": "stream",
     "text": [
      " 22%|██▏       | 15002/66837 [33:48<2:32:53,  5.65it/s]"
     ]
    },
    {
     "name": "stdout",
     "output_type": "stream",
     "text": [
      "号闻话，实已不敢贸然，有幸决策认们得连先前后本来便往密浮。程灵素见性命防谅之法也有为有理断所胜之奇，忽然的匕首的名字是四派震材侍卫，远处良久，各人不面削去取水，海中却是有丐帮中，另有两手，但自己鼻子之\n"
     ]
    },
    {
     "name": "stderr",
     "output_type": "stream",
     "text": [
      " 30%|██▉       | 20002/66837 [45:04<2:16:43,  5.71it/s]"
     ]
    },
    {
     "name": "stdout",
     "output_type": "stream",
     "text": [
      "山鸣瓦。阿紫在殷素素来和，但想去让瘦囊给张三礼酒举礼凛，不由静有惊讶，心中一震：“站在这里西风来，这样砖路女子打不去给字。”徐铮见他服接的脸色，这一行《九阴真经》给她峨嵋上，口中不怕得意。此时全静了三\n"
     ]
    },
    {
     "name": "stderr",
     "output_type": "stream",
     "text": [
      " 37%|███▋      | 25002/66837 [56:22<2:01:28,  5.74it/s]"
     ]
    },
    {
     "name": "stdout",
     "output_type": "stream",
     "text": [
      "住口叫道：“啊哟，不来不上谁相干甚么？”那喇嘛道：“怕开了这个使一步，本事不过的矫捷帮主，所能给你对郭，屈杖一樊一物，那是不虚？这华子照射到这里，甚么不容想的小贱人而来，待我若有何处置，难道总不能是否\n"
     ]
    },
    {
     "name": "stderr",
     "output_type": "stream",
     "text": [
      " 45%|████▍     | 30002/66837 [1:07:41<1:49:49,  5.59it/s]"
     ]
    },
    {
     "name": "stdout",
     "output_type": "stream",
     "text": [
      "法、采碧四树之后深以太后，又惊又交，顷刻之间，一桩正风四尺之余，似乎疚拳势已升重，与郭靖等身讶一齐出不也不动，畔她又紧丫头巴天地不怕公孙不过。小龙女细救她的祖父，丝毫不够著恩，巧在极力，又丛不住重公孤\n"
     ]
    },
    {
     "name": "stderr",
     "output_type": "stream",
     "text": [
      " 52%|█████▏    | 35002/66837 [1:18:59<1:32:12,  5.75it/s]"
     ]
    },
    {
     "name": "stdout",
     "output_type": "stream",
     "text": [
      "也是不枉一点。虬髯汉人新缝人口井，想牙往这边的“风霜通』」自行。一灯之下，有的大声惊心俱十，疆原非情，料理胡斐一紧，又有人队中了情说。陈家洛道：“这马之库，不用素担。”两人大声惊叫：“冲天统兵掩身用，\n"
     ]
    },
    {
     "name": "stderr",
     "output_type": "stream",
     "text": [
      " 60%|█████▉    | 40002/66837 [1:30:11<1:18:26,  5.70it/s]"
     ]
    },
    {
     "name": "stdout",
     "output_type": "stream",
     "text": [
      "火门这一切真气充满了胸膛，一时不住发觉。只觉对方的恶道起来，口中又是颜面转了一口气洋地，直射过来，看来自己……那点穴之间，越来越熄。铜钱来幌开的大金杵涌上坐捏，为了什么气恼了过来的？熊宫勾来，一个汉目\n"
     ]
    },
    {
     "name": "stderr",
     "output_type": "stream",
     "text": [
      " 67%|██████▋   | 45002/66837 [1:41:24<1:02:53,  5.79it/s]"
     ]
    },
    {
     "name": "stdout",
     "output_type": "stream",
     "text": [
      "，家传不别，你如不能再好了。你不答允可，我跟你送他钉在地下。”德夫抢在一名小太监身前的侍卫领过身高贵镖的丐帮老弟，两人躬身退出。四名公子发声北来。窗外奔了一人，潇湘子等均是初八，怀里和鬼梨亭等人穿了个\n"
     ]
    },
    {
     "name": "stderr",
     "output_type": "stream",
     "text": [
      " 75%|███████▍  | 50002/66837 [1:52:44<49:47,  5.64it/s]  "
     ]
    },
    {
     "name": "stdout",
     "output_type": "stream",
     "text": [
      "”从此而去。林平之续道”：“在下连十年妻生女儿下得上，却也关心了？’弟子振举艮唱第二人一走，说道：“弟子忽然无量山坳冲口阁息，他本事再说，天下百丈顺当，要查究沙天石知别的不是杀他亲你可涉皇上了。等不见\n"
     ]
    },
    {
     "name": "stderr",
     "output_type": "stream",
     "text": [
      " 82%|████████▏ | 55002/66837 [2:04:04<34:22,  5.74it/s]"
     ]
    },
    {
     "name": "stdout",
     "output_type": "stream",
     "text": [
      "术不精，死在钱孙身上一起，真是自从。至于此人的长袍被蚊，，每天石显已还是好端端端的那个碎官宜惹净续喉幕来。但可是那打不算架的，也是到了湖塘，回去摸吕文秀生辰的法子，心想四闹相当，他又不与他口说讲论温有\n"
     ]
    },
    {
     "name": "stderr",
     "output_type": "stream",
     "text": [
      " 90%|████████▉ | 60002/66837 [2:15:19<20:21,  5.60it/s]"
     ]
    },
    {
     "name": "stdout",
     "output_type": "stream",
     "text": [
      "。”狄云焦木于大大了：“非午时分明的小室中必有俟隙相信，还没我们师父师叔为宾，送她性命去咬，他母亲破涕为一喜，这……便削下他手中的坏人。这人好汉也确怪好了，我再好不见啊。”只听得渡劫谷却已不动，众弟先\n"
     ]
    },
    {
     "name": "stderr",
     "output_type": "stream",
     "text": [
      " 97%|█████████▋| 65002/66837 [2:26:28<05:22,  5.69it/s]"
     ]
    },
    {
     "name": "stdout",
     "output_type": "stream",
     "text": [
      "名出今的努儿按旨之际，只觉神情深深，谢逊仰天肯允下前来求婚手。青青不敢过去问问：“要你们弄鬼不疯，怎么住的！”阿珂急道：“没给你啦。”傻姑沉视着脸，喘不欲重分，脸上都没半点力气，扑上变来。青青见不见多\n"
     ]
    },
    {
     "name": "stderr",
     "output_type": "stream",
     "text": [
      "100%|██████████| 66837/66837 [2:30:39<00:00,  7.39it/s]\n"
     ]
    }
   ],
   "source": [
    "all_losses = []\n",
    "print_every = 5000\n",
    "for epoch in range(1):    \n",
    "    for batch in get_batch(X_train, y_train, seq_length):\n",
    "        X_batch, y_batch = batch\n",
    "        _, batch_loss = train(X_batch, y_batch)\n",
    "        all_losses.append(batch_loss.item())\n",
    "        writer.add_scalar('loss', all_losses[-1], len(all_losses))\n",
    "        if len(all_losses)%print_every==1:\n",
    "            # print(f'----\\nRunning Avg Loss:{np.mean(all_losses[-print_every:])} at iter: {len(all_losses)}\\n----')\n",
    "            # log to tensorboard every X iterations. Can be removed if Tensorboard is not installed.\n",
    "            # generate text every X iterations\n",
    "            torch.save(rnn.state_dict(), f'jinyong{-len(all_losses)}.pth')\n",
    "            print(sample_chars(rnn, X_batch[0], rnn.initHidden(), 100))"
   ]
  },
  {
   "cell_type": "code",
   "execution_count": 17,
   "metadata": {},
   "outputs": [
    {
     "name": "stdout",
     "output_type": "stream",
     "text": [
      "阳：“我妈就罢了，你……我不会有毒拳四脚。”上面张无忌偶尔想到他上前伤心，木婉清在崖上碰到段誉和张阿生身上，只笑道：“真诚！”只听石破天道：“我又见他清知她道路抢进来，怎么还不给的？你去换了吗？”阿紫冷笑道：“师姊，怎么来的武林中的住我是我的机关……这般古怪罪蠢？”石逼笑笑道：“他明白的是谁？我没有半分九阳要气。”突然间跟了一阵岱岩叫了起来：“黄山上来给你吃的，怎么连叫开几哥？”苗人凤左手一挥，两\n"
     ]
    }
   ],
   "source": [
    "print(sample_chars(rnn, X_batch[20], rnn.initHidden(), 200))"
   ]
  },
  {
   "cell_type": "code",
   "execution_count": 18,
   "metadata": {},
   "outputs": [],
   "source": [
    "torch.save(rnn.state_dict(), 'jinyong.pth')"
   ]
  },
  {
   "cell_type": "code",
   "execution_count": 19,
   "metadata": {},
   "outputs": [],
   "source": [
    "rnn_restore = nn_LSTM(vocab_size, hidden_size, vocab_size)"
   ]
  },
  {
   "cell_type": "code",
   "execution_count": 21,
   "metadata": {},
   "outputs": [
    {
     "data": {
      "text/plain": [
       "<All keys matched successfully>"
      ]
     },
     "execution_count": 21,
     "metadata": {},
     "output_type": "execute_result"
    }
   ],
   "source": [
    "rnn_restore.load_state_dict(torch.load('jinyong.pth'))"
   ]
  },
  {
   "cell_type": "code",
   "execution_count": 25,
   "metadata": {},
   "outputs": [
    {
     "name": "stderr",
     "output_type": "stream",
     "text": [
      "C:\\Users\\vrlab9\\AppData\\Local\\Temp\\ipykernel_20764\\3374769331.py:2: DeprecationWarning: `np.int` is a deprecated alias for the builtin `int`. To silence this warning, use `int` by itself. Doing this will not modify any behavior and is safe. When replacing `np.int`, you may wish to use e.g. `np.int64` or `np.int32` to specify the precision. If you wish to review your current use, check the release note link for additional information.\n",
      "Deprecated in NumPy 1.20; for more details and guidance: https://numpy.org/devdocs/release/1.20.0-notes.html#deprecations\n",
      "  X_test1 = lil_matrix((len(test1), len(chars)), dtype=np.int)\n",
      "100%|██████████| 139/139 [00:00<00:00, 23171.11it/s]\n"
     ]
    }
   ],
   "source": [
    "test1='杨过知他心意，挥动长剑，守得严密异常。法王双轮上的劲力越来越大，猛地金轮上击，银轮横扫，杨过眼见抵挡不住，当即纵跃逃开。法王撕下衣襟待要裹伤，杨过却又挺剑急刺。如此来回数次，法王计上心来，待他远跃避开之际，自己同时後跃，跟著银轮掷出，教杨过不得不再向後退，如此两人之间相距远了，'\n",
    "X_test1 = lil_matrix((len(test1), len(chars)), dtype=np.int)\n",
    "char_test1 = np.array([chars.index(c) for c in tqdm(test1)])\n",
    "X_test1[np.arange(len(test1)), char_test1] = 1"
   ]
  },
  {
   "cell_type": "code",
   "execution_count": 26,
   "metadata": {},
   "outputs": [
    {
     "name": "stderr",
     "output_type": "stream",
     "text": [
      "C:\\Users\\vrlab9\\AppData\\Local\\Temp\\ipykernel_20764\\1478809676.py:2: DeprecationWarning: `np.int` is a deprecated alias for the builtin `int`. To silence this warning, use `int` by itself. Doing this will not modify any behavior and is safe. When replacing `np.int`, you may wish to use e.g. `np.int64` or `np.int32` to specify the precision. If you wish to review your current use, check the release note link for additional information.\n",
      "Deprecated in NumPy 1.20; for more details and guidance: https://numpy.org/devdocs/release/1.20.0-notes.html#deprecations\n",
      "  X_test2 = lil_matrix((len(test2), len(chars)), dtype=np.int)\n",
      "100%|██████████| 137/137 [00:00<00:00, 17074.33it/s]\n"
     ]
    }
   ],
   "source": [
    "test2='姜汤还没煎好，阿朱身子不住发抖，颤声道：“我冷，好冷。”萧峰甚是怜惜，除下身上外袍，披在她身上。阿朱道：“大哥，你今晚得报大仇，了却这个大心愿，我本该陪你去的，只盼待会身子好些。”萧峰道：“不！不！你在这儿歇歇，睡了一觉醒来，我已取了段正淳的首级来啦。”阿朱叹了口气，道：“'\n",
    "X_test2 = lil_matrix((len(test2), len(chars)), dtype=np.int)\n",
    "char_test2 = np.array([chars.index(c) for c in tqdm(test2)])\n",
    "X_test2[np.arange(len(test2)), char_test2] = 1"
   ]
  },
  {
   "cell_type": "code",
   "execution_count": 27,
   "metadata": {},
   "outputs": [
    {
     "name": "stderr",
     "output_type": "stream",
     "text": [
      "C:\\Users\\vrlab9\\AppData\\Local\\Temp\\ipykernel_20764\\4197049162.py:2: DeprecationWarning: `np.int` is a deprecated alias for the builtin `int`. To silence this warning, use `int` by itself. Doing this will not modify any behavior and is safe. When replacing `np.int`, you may wish to use e.g. `np.int64` or `np.int32` to specify the precision. If you wish to review your current use, check the release note link for additional information.\n",
      "Deprecated in NumPy 1.20; for more details and guidance: https://numpy.org/devdocs/release/1.20.0-notes.html#deprecations\n",
      "  X_test3 = lil_matrix((len(test3), len(chars)), dtype=np.int)\n",
      "100%|██████████| 98/98 [00:00<00:00, 24509.08it/s]\n"
     ]
    }
   ],
   "source": [
    "test3='欧阳锋破口大骂。郭靖不再理他，纵马走开。奔出数十丈，听得他惨厉的呼声远远传来，心下终是不，忍叹了口气，回马过来，见泥沙已陷到他颈边。郭靖道：「我救你便是。但马上骑了两人，马身吃重，势必陷入泥沼。」'\n",
    "X_test3 = lil_matrix((len(test3), len(chars)), dtype=np.int)\n",
    "char_test3 = np.array([chars.index(c) for c in tqdm(test3)])\n",
    "X_test3[np.arange(len(test3)), char_test3] = 1"
   ]
  },
  {
   "cell_type": "code",
   "execution_count": 28,
   "metadata": {},
   "outputs": [],
   "source": [
    "X1=torch.from_numpy(X_test1.toarray().astype(np.float32)).cuda()\n",
    "X2=torch.from_numpy(X_test2.toarray().astype(np.float32)).cuda()\n",
    "X3=torch.from_numpy(X_test3.toarray().astype(np.float32)).cuda()"
   ]
  },
  {
   "cell_type": "code",
   "execution_count": 34,
   "metadata": {},
   "outputs": [
    {
     "name": "stdout",
     "output_type": "stream",
     "text": [
      "乖乖的孩子，今日乐要的求求，现下猜想瞧瞧我那也是不净！”当下令狐冲将段誉抬头直到后来，双手合十三枚铁木杖，也都过了两两尺来，身上的腔处是志在肚里，段誉眼见已是满腮悦油，每一眼时都已撞到了桃干仙的叫做‘神僧心中，决无欺压之意。但萧峰也不理她那招上立即跳动，越气\n",
      "糕侣”的“英雄豪杰”传令狐右掌门岳情避以色显然，身子资质纯与，如何厉害。李力世一笑，想要拚个恶斗胜败，又是自言自熟。只听胡斐貂儿却不知他不在半只游太后的酒席之中，听他语言半句，便道：“我不做你的伤药了。”钻古道：“教前武功天下，我吓得你道她未必再见这个姓丁的姑娘，\n",
      "突然间的下争各开，厉声声中，突见两名喇嘛齐声问道：「这姓辛”总是对敌人莫名？』上官云长老低下留周，目光道若及上华山与周仲英诸般模样，他却对他留著一个时辰之后，无不可以外招。刘正风招呼旁掠，而且慢了一招，左手盘中一\n"
     ]
    }
   ],
   "source": [
    "print(sample_chars(rnn, X1[-1], rnn.initHidden(),len('待得杨过再度攻上，他已乘这瞬息之间，将撕下的衣襟在左臂上一绕，包住了伤处，又觉伤口金是疼痛，并无麻□之感，看来剑上有毒多半是假，心中为之一宽。就在此时，只听得东南角上乒乒乓乓之声大作，兵刃相互撞击。杨过放眼望去，见小龙女手舞长剑，正自力战潇湘子与尼摩星两人。')))\n",
    "print(sample_chars(rnn, X2[-1], rnn.initHidden(),len('我好为难，大哥，我真是没有法子。我不能陪你了。我很想陪着你，和你在一起，真不想跟你分开……你……你一个人这么寂寞孤单，我对你不起。”萧峰听她说来柔情深至，心下感动，握住她手，说道：“咱们只分开这一会儿，又有什么要紧？阿朱，你待我真好，你的恩情我不知怎样报答才是。”')))\n",
    "print(sample_chars(rnn, X3[-1], rnn.initHidden(),len('欧阳锋道：「你用绳子拖我。」郭靖未携带绳索，转令间解下长衣，执住一端，纵马驰过他身旁。欧阳锋伸手拉住长衣的另一端，郭靖双腿一夹，大喝一声。小红马奋力前冲，波的一声响，将欧阳锋从软沙之中直拔出来，在雪地□拖曳而行。')))"
   ]
  },
  {
   "cell_type": "code",
   "execution_count": null,
   "metadata": {},
   "outputs": [],
   "source": []
  }
 ],
 "metadata": {
  "kernelspec": {
   "display_name": "ml",
   "language": "python",
   "name": "python3"
  },
  "language_info": {
   "codemirror_mode": {
    "name": "ipython",
    "version": 3
   },
   "file_extension": ".py",
   "mimetype": "text/x-python",
   "name": "python",
   "nbconvert_exporter": "python",
   "pygments_lexer": "ipython3",
   "version": "3.10.10"
  },
  "orig_nbformat": 4
 },
 "nbformat": 4,
 "nbformat_minor": 2
}
